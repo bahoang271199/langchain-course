{
 "cells": [
  {
   "cell_type": "markdown",
   "metadata": {},
   "source": [
    "# Lesson 8.1: Introduction to LangGraph\n",
    "\n",
    "---"
   ]
  },
  {
   "cell_type": "markdown",
   "metadata": {},
   "source": [
    "In previous Modules, we explored the core components of LangChain and how to connect them into **Chains** using **LCEL** to build LLM applications. However, as applications become more complex, especially **Agents** that need to perform multi-step, iterative reasoning, or have conditional control flows, traditional linear LangChain Chains might not be flexible enough. This is where **LangGraph** comes into play."
   ]
  },
  {
   "cell_type": "markdown",
   "metadata": {},
   "source": [
    "This lesson will introduce LangGraph, why it's necessary, and its core concepts."
   ]
  },
  {
   "cell_type": "markdown",
   "metadata": {},
   "source": [
    "## 1. What is LangGraph? Why is LangGraph necessary for complex Agent applications?"
   ]
  },
  {
   "cell_type": "markdown",
   "metadata": {},
   "source": [
    "### 1.1. What is LangGraph?\n",
    "\n",
    "**LangGraph** is an extension library of LangChain, specifically designed to build **stateful and multi-step Agent applications** by using a **graph** structure. It allows you to define complex workflows where processing steps can loop, branch, and interact with a shared state.\n",
    "\n",
    ""
   ]
  },
  {
   "cell_type": "markdown",
   "metadata": {},
   "source": [
    "### 1.2. Why is LangGraph necessary for complex Agent applications?\n",
    "\n",
    "Complex Agent applications often require more than a simple linear processing chain:\n",
    "\n",
    "* **Iterative Reasoning:** An Agent might need to try a Tool, observe the result, then re-think and try another Tool based on that observation. This is a reasoning loop.\n",
    "* **Conditional Control Flow:** An Agent might need to branch based on the outcome of a step. For example: if a search is successful, summarize; if not, try searching again with a different query.\n",
    "* **State Management:** In a multi-step flow, the Agent needs to maintain a state (e.g., conversation history, temporary variables, intermediate results) that all steps can access and update.\n",
    "* **Autonomy:** LangGraph provides a framework for building more autonomous Agents that can self-navigate through a set of actions to achieve a goal.\n",
    "\n",
    "LangGraph provides the tools to precisely define these non-linear and stateful flows."
   ]
  },
  {
   "cell_type": "markdown",
   "metadata": {},
   "source": [
    "\n",
    "---"
   ]
  },
  {
   "cell_type": "markdown",
   "metadata": {},
   "source": [
    "## 2. Differences between LangChain Chains and LangGraph: From linear chains to state graphs"
   ]
  },
  {
   "cell_type": "markdown",
   "metadata": {},
   "source": [
    "To better understand LangGraph, let's compare it with traditional LangChain Chains:"
   ]
  },
  {
   "cell_type": "markdown",
   "metadata": {},
   "source": [
    "* **LangChain Chains (Linear):**\n",
    "    * **Structure:** A sequence of processing steps connected linearly (e.g., `Prompt | LLM | Parser`).\n",
    "    * **Data Flow:** Data flows in a single direction from start to end.\n",
    "    * **Limitations:** Difficult to handle loops, complex branching, or scenarios requiring global state updates across multiple non-sequential steps.\n",
    "    * **Example:** A simple RAG chain: `question -> retriever -> context -> LLM -> answer`."
   ]
  },
  {
   "cell_type": "markdown",
   "metadata": {},
   "source": [
    "* **LangGraph (State Graph):**\n",
    "    * **Structure:** A **directed graph** consisting of **Nodes** and **Edges**. Nodes represent processing steps, and Edges define the control flow between Nodes.\n",
    "    * **Data Flow:** Data is managed through a shared **State**, which is passed between Nodes. Each Node receives the current state, performs processing, and returns an update to the state. LangGraph automatically merges this update into the overall state.\n",
    "    * **Advantages:** Allows for non-linear processing flows, loops, conditional branching, and persistent state management. Ideal for autonomous Agents.\n",
    "    * **Example:** An Agent might loop between \"Think\" (LLM), \"Act\" (Tool), and \"Observe\" (Tool result) steps until it reaches a \"Final Answer.\"\n",
    "\n",
    ""
   ]
  },
  {
   "cell_type": "markdown",
   "metadata": {},
   "source": [
    "\n",
    "---"
   ]
  },
  {
   "cell_type": "markdown",
   "metadata": {},
   "source": [
    "## 3. Concepts of State and Graph in LangGraph"
   ]
  },
  {
   "cell_type": "markdown",
   "metadata": {},
   "source": [
    "The two central concepts in LangGraph are State and Graph:"
   ]
  },
  {
   "cell_type": "markdown",
   "metadata": {},
   "source": [
    "### 3.1. State\n",
    "\n",
    "* **Concept:** The state in LangGraph is a single shared data object that is passed throughout the graph. Each Node in the graph receives the current state, performs some processing, and returns an update to that state. LangGraph will automatically merge this update into the overall state.\n",
    "* **Purpose:** Helps different Nodes in the graph access and update necessary information, maintaining context and intermediate data through complex processing steps.\n",
    "* **Example:** The state might contain conversation history, search results, temporary Agent variables, etc."
   ]
  },
  {
   "cell_type": "markdown",
   "metadata": {},
   "source": [
    "### 3.2. Graph\n",
    "\n",
    "* **Concept:** The graph is the structure you define in LangGraph, consisting of Nodes and Edges, describing the Agent's workflow.\n",
    "* **Purpose:** Provides a visual and declarative way to design complex processing flows, allowing you to visualize possible paths in your application."
   ]
  },
  {
   "cell_type": "markdown",
   "metadata": {},
   "source": [
    "\n",
    "---"
   ]
  },
  {
   "cell_type": "markdown",
   "metadata": {},
   "source": [
    "## 4. Core Components of LangGraph"
   ]
  },
  {
   "cell_type": "markdown",
   "metadata": {},
   "source": [
    "To build a graph in LangGraph, you will work with the following key components:"
   ]
  },
  {
   "cell_type": "markdown",
   "metadata": {},
   "source": [
    "### 4.1. Nodes (Processing Steps)\n",
    "\n",
    "* **Concept:** Each Node in the graph represents a specific processing step. A Node can be:\n",
    "    * An LLM call.\n",
    "    * A Tool call.\n",
    "    * A custom Python function performing business logic.\n",
    "    * A LangChain Chain.\n",
    "* **Input/Output:** Each Node receives the current graph state as input and returns an update to that state."
   ]
  },
  {
   "cell_type": "markdown",
   "metadata": {},
   "source": [
    "### 4.2. Edges (Control Flow)\n",
    "\n",
    "* **Concept:** Edges define how control flow moves from one Node to another in the graph.\n",
    "* **Types of Edges:**\n",
    "    * **Normal Edges:** Control flow goes directly from Node A to Node B.\n",
    "    * **Conditional Edges:** Control flow branches based on the outcome of a Node. That Node will return a \"destination\" (e.g., the name of the next Node), and LangGraph will transition to that Node. This allows for complex loops and `if/else` logic.\n",
    "    * **Start/End Edges:** Define the starting and ending points of the graph."
   ]
  },
  {
   "cell_type": "markdown",
   "metadata": {},
   "source": [
    "### 4.3. State (Shared Data)\n",
    "\n",
    "* **Concept:** As mentioned, State is the data that is shared and updated by Nodes in the graph.\n",
    "* **How it Works:** When you define a graph, you also define how state updates from Nodes are merged into the overall state. LangGraph provides basic State types (e.g., `TypedDict` for specific data fields) and default merging mechanisms.\n",
    "\n",
    ""
   ]
  },
  {
   "cell_type": "markdown",
   "metadata": {},
   "source": [
    "\n",
    "---"
   ]
  },
  {
   "cell_type": "markdown",
   "metadata": {},
   "source": [
    "## 5. Advantages of Using LangGraph for Complex, Iterative, and Decision-Making Workflows"
   ]
  },
  {
   "cell_type": "markdown",
   "metadata": {},
   "source": [
    "Using LangGraph offers several significant benefits for building advanced Agent applications:\n",
    "\n",
    "* **Precise Flow Control:** You can precisely define every possible path in your application, including complex loops and branches.\n",
    "* **Persistent State Management:** State is explicitly managed, allowing Agents to maintain context and intermediate data across multiple steps.\n",
    "* **Better Debugging and Observability:** The graph structure makes it easy to visualize the execution flow and trace Agent steps, especially when combined with LangSmith.\n",
    "* **Building Autonomous Agents:** Provides a robust foundation for developing Agents that can self-correct and make decisions to achieve goals.\n",
    "* **Modularity and Reusability:** Nodes can be independent components, easily reusable in different graphs."
   ]
  },
  {
   "cell_type": "markdown",
   "metadata": {},
   "source": [
    "\n",
    "---"
   ]
  },
  {
   "cell_type": "markdown",
   "metadata": {},
   "source": [
    "## Lesson Summary\n",
    "\n",
    "This lesson provided a comprehensive introduction to **LangGraph**, a powerful library that allows you to build complex and stateful Agent applications. You understood **what LangGraph is** and **why it's necessary** for non-linear and iterative workflows. We compared the fundamental differences between **linear LangChain Chains and stateful LangGraph graphs**. You also grasped the **core concepts** of **State** and **Graph**, along with their main components: **Nodes (processing steps)**, **Edges (control flow)**, and **State (shared data)**. Finally, we discussed the **advantages** of using LangGraph for complex, iterative, and decision-making workflows, laying the groundwork for building more intelligent and autonomous Agents in subsequent lessons."
   ]
  }
 ],
 "metadata": {
  "kernelspec": {
   "display_name": "Python 3",
   "language": "python",
   "name": "python3"
  },
  "language_info": {
   "codemirror_mode": {
    "name": "ipython",
    "version": 3
   },
   "file_extension": ".py",
   "mimetype": "text/x-python",
   "name": "python",
   "nbconvert_exporter": "python",
   "pygments_lexer": "ipython3",
   "version": "3.10.12"
  }
 },
 "nbformat": 4,
 "nbformat_minor": 5
}
