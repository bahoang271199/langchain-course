{
 "cells": [
  {
   "cell_type": "markdown",
   "metadata": {},
   "source": [
    "# Lesson 7.3: Integrating with External APIs and Data\n",
    "\n",
    "---"
   ]
  },
  {
   "cell_type": "markdown",
   "metadata": {},
   "source": [
    "In previous lessons, we built chatbots capable of conversation, search, and calculation. However, the true power of LLM applications lies in their ability to interact with the **external world** through **APIs (Application Programming Interfaces)** and databases. This lesson will focus on using **Agents** to connect LLMs with real-world web services and business systems, enabling chatbots to perform meaningful real-world tasks."
   ]
  },
  {
   "cell_type": "markdown",
   "metadata": {},
   "source": [
    "## 1. Using Agents to Interact with Real-World Web Services and Databases"
   ]
  },
  {
   "cell_type": "markdown",
   "metadata": {},
   "source": [
    "When an LLM needs to perform tasks beyond its internal knowledge or the capabilities of general calculation/search tools, we need to integrate it with external systems. The **Agent** is the ideal component for this role."
   ]
  },
  {
   "cell_type": "markdown",
   "metadata": {},
   "source": [
    "* **Role of the Agent:** The Agent acts as an intelligent orchestrator. It receives user requests, infers intent, and decides whether a specific **Tool** needs to be called to complete the task. If so, it selects the appropriate Tool, formats the input, executes the Tool, and uses the result to generate the final response.\n",
    "* **Benefits:**\n",
    "    * **Extended Capabilities:** Allows the LLM to access up-to-date information, perform actions (e.g., create orders, send emails, schedule appointments), and interact with proprietary systems.\n",
    "    * **Automate Business Tasks:** Transforms the chatbot into an assistant that can execute complex workflows.\n",
    "    * **Reduce Hallucinations:** By retrieving information from authoritative sources, it reduces the LLM's tendency to fabricate data.\n",
    "\n",
    ""
   ]
  },
  {
   "cell_type": "markdown",
   "metadata": {},
   "source": [
    "\n",
    "---"
   ]
  },
  {
   "cell_type": "markdown",
   "metadata": {},
   "source": [
    "## 2. Building Tools to Call RESTful APIs"
   ]
  },
  {
   "cell_type": "markdown",
   "metadata": {},
   "source": [
    "For the Agent to interact with external APIs, we need to build **Custom Tools**. Each Tool will encapsulate the logic to call a specific API."
   ]
  },
  {
   "cell_type": "markdown",
   "metadata": {},
   "source": [
    "* **`requests` library:** This is the standard Python library for making HTTP requests (GET, POST, PUT, DELETE) to RESTful APIs.\n",
    "* **Tool Definition:**\n",
    "    * Use the `@tool` decorator or LangChain's `Tool` class.\n",
    "    * Provide a clear and unique `name`.\n",
    "    * Write a detailed `description` that accurately describes the Tool's function, its required input parameters, and their format. The LLM will read this `description` to decide when and how to use the Tool.\n",
    "    * Ensure the Tool's function returns a string that the LLM can read and understand.\n",
    "* **Input/Output Handling:**\n",
    "    * **Input:** The Tool can receive parameters from the LLM. You should use `Pydantic` to define the input schema, helping the LLM understand the necessary parameters.\n",
    "    * **Output:** After calling the API, the Tool will process the API response (often JSON) and convert it into a human-readable text format for the LLM."
   ]
  },
  {
   "cell_type": "markdown",
   "metadata": {},
   "source": [
    "\n",
    "---"
   ]
  },
  {
   "cell_type": "markdown",
   "metadata": {},
   "source": [
    "## 3. Real-World Examples (Conceptual)"
   ]
  },
  {
   "cell_type": "markdown",
   "metadata": {},
   "source": [
    "Integrating with real-world APIs like Google Calendar, e-commerce databases, or CRM/ERP systems often requires complex steps such as:\n",
    "\n",
    "* **Authentication:** OAuth 2.0, API keys, JWT tokens.\n",
    "* **Client Libraries/SDKs:** API providers often offer Python libraries to simplify interaction.\n",
    "* **State Management:** Maintaining sessions, access tokens.\n",
    "* **Error Handling:** Catching specific API errors (401 Unauthorized, 404 Not Found, 500 Internal Server Error).\n",
    "\n",
    "Due to this complexity and the requirements for API keys/environment configuration, we will cover the following examples conceptually and will use a **mock API** for the practical section."
   ]
  },
  {
   "cell_type": "markdown",
   "metadata": {},
   "source": [
    "* **Appointment Scheduling (Google Calendar API integration):**\n",
    "    * **Tool:** `create_calendar_event(summary: str, start_time: str, end_time: str, attendees: List[str])`.\n",
    "    * **Logic:** Uses the Google Calendar API Python client library, authenticates with OAuth, creates a new event.\n",
    "    * **Response:** \"Event 'Project Meeting' created for 10:00 on 2024-08-15.\""
   ]
  },
  {
   "cell_type": "markdown",
   "metadata": {},
   "source": [
    "* **Retrieving Product Information from an E-commerce Database:**\n",
    "    * **Tool:** `get_product_details(product_id: str)`.\n",
    "    * **Logic:** Connects to a database (e.g., PostgreSQL, MongoDB) or calls a RESTful API of the e-commerce system, queries product information by ID.\n",
    "    * **Response:** \"Product 'XYZ Phone' costs 15,000,000 VND, 100 units in stock.\""
   ]
  },
  {
   "cell_type": "markdown",
   "metadata": {},
   "source": [
    "* **Interacting with CRM/ERP Systems (e.g., Salesforce, SAP):**\n",
    "    * **Tool:** `create_new_lead(name: str, email: str, company: str)`.\n",
    "    * **Logic:** Uses the CRM/ERP system's SDK, authenticates, sends a request to create a new lead record.\n",
    "    * **Response:** \"New lead created for John Doe from ABC Corp.\""
   ]
  },
  {
   "cell_type": "markdown",
   "metadata": {},
   "source": [
    "\n",
    "---"
   ]
  },
  {
   "cell_type": "markdown",
   "metadata": {},
   "source": [
    "## 4. Practical Example: Building an Agent that Can Perform Business Tasks via API"
   ]
  },
  {
   "cell_type": "markdown",
   "metadata": {},
   "source": [
    "To illustrate API integration, we will build an Agent capable of managing orders through a **simple mock API**."
   ]
  },
  {
   "cell_type": "markdown",
   "metadata": {},
   "source": [
    "**Scenario:** An order management chatbot that can create new orders and check order status."
   ]
  },
  {
   "cell_type": "markdown",
   "metadata": {},
   "source": [
    "**Preparation:**\n",
    "* Ensure you have `langchain-openai`, `pydantic` installed.\n",
    "* Set the `OPENAI_API_KEY` environment variable."
   ]
  },
  {
   "cell_type": "code",
   "execution_count": null,
   "metadata": {},
   "outputs": [],
   "source": [
    "import os\n",
    "from typing import Dict, Any, List, Optional\n",
    "from langchain_openai import ChatOpenAI\n",
    "from langchain.agents import AgentExecutor, create_react_agent\n",
    "from langchain_core.prompts import ChatPromptTemplate, MessagesPlaceholder\n",
    "from langchain.tools import tool\n",
    "from pydantic import BaseModel, Field\n",
    "import time\n",
    "\n",
    "# Set environment variable for OpenAI API key\n",
    "# os.environ[\"OPENAI_API_KEY\"] = \"YOUR_OPENAI_API_KEY\"\n",
    "\n",
    "# --- 1. Mock Order API ---\n",
    "# This is a mock in-memory order database\n",
    "mock_orders_db = {}\n",
    "order_id_counter = 0\n",
    "\n",
    "def _generate_order_id():\n",
    "    global order_id_counter\n",
    "    order_id_counter += 1\n",
    "    return f\"ORDER-{order_id_counter:04d}\"\n",
    "\n",
    "def _mock_create_order_api(customer_name: str, product_name: str, quantity: int) -> Dict[str, Any]:\n",
    "    \"\"\"Simulates an API call to create a new order.\"\"\"\n",
    "    order_id = _generate_order_id()\n",
    "    order_details = {\n",
    "        \"order_id\": order_id,\n",
    "        \"customer_name\": customer_name,\n",
    "        \"product_name\": product_name,\n",
    "        \"quantity\": quantity,\n",
    "        \"status\": \"Processing\", # Initial status\n",
    "        \"timestamp\": time.time() # For demonstration\n",
    "    }\n",
    "    mock_orders_db[order_id] = order_details\n",
    "    return {\"status\": \"success\", \"order_id\": order_id, \"details\": order_details}\n",
    "\n",
    "def _mock_get_order_status_api(order_id: str) -> Dict[str, Any]:\n",
    "    \"\"\"Simulates an API call to get order status.\"\"\"\n",
    "    order = mock_orders_db.get(order_id)\n",
    "    if order:\n",
    "        return {\"status\": \"success\", \"order_id\": order_id, \"details\": order}\n",
    "    else:\n",
    "        return {\"status\": \"error\", \"message\": f\"Order with ID: {order_id} not found\"}\n",
    "\n",
    "print(\"Mock order API initialized.\")\n",
    "\n",
    "# --- 2. Define Custom Tools to interact with the mock API ---\n",
    "\n",
    "# Input Schema for Create Order Tool\n",
    "class CreateOrderInput(BaseModel):\n",
    "    customer_name: str = Field(description=\"Name of the customer placing the order.\")\n",
    "    product_name: str = Field(description=\"Name of the product being ordered.\")\n",
    "    quantity: int = Field(description=\"Quantity of the product being ordered.\")\n",
    "\n",
    "@tool(\"create_new_order\", args_schema=CreateOrderInput)\n",
    "def create_new_order_tool(customer_name: str, product_name: str, quantity: int) -> str:\n",
    "    \"\"\"\n",
    "    Creates a new order with customer name, product name, and quantity.\n",
    "    Returns the order ID and status.\n",
    "    \"\"\"\n",
    "    if quantity <= 0:\n",
    "        return \"Error: Product quantity must be greater than 0.\"\n",
    "    \n",
    "    response = _mock_create_order_api(customer_name, product_name, quantity)\n",
    "    if response[\"status\"] == \"success\":\n",
    "        return f\"Order created successfully! Your order ID is {response['order_id']}. Status: {response['details']['status']}.\"\n",
    "    else:\n",
    "        return f\"Error creating order: {response['message']}\"\n",
    "\n",
    "# Input Schema for Get Order Status Tool\n",
    "class GetOrderStatusInput(BaseModel):\n",
    "    order_id: str = Field(description=\"The unique ID of the order to check status for.\")\n",
    "\n",
    "@tool(\"get_order_status\", args_schema=GetOrderStatusInput)\n",
    "def get_order_status_tool(order_id: str) -> str:\n",
    "    \"\"\"\n",
    "    Retrieves the current status of an order based on the order ID.\n",
    "    \"\"\"\n",
    "    response = _mock_get_order_status_api(order_id)\n",
    "    if response[\"status\"] == \"success\":\n",
    "        details = response[\"details\"]\n",
    "        return (f\"Order {details['order_id']} for customer {details['customer_name']} \"\n",
    "                f\"for product '{details['product_name']}' (quantity {details['quantity']}) is: {details['status']}.\")\n",
    "    else:\n",
    "        return f\"Error getting order status: {response['message']}\"\n",
    "\n",
    "tools = [create_new_order_tool, get_order_status_tool]\n",
    "print(\"Custom Tools defined.\")\n",
    "\n",
    "# --- 3. Initialize LLM and Agent ---\n",
    "llm = ChatOpenAI(model_name=\"gpt-3.5-turbo\", temperature=0)\n",
    "\n",
    "# Define Prompt for Agent\n",
    "agent_prompt = ChatPromptTemplate.from_messages([\n",
    "    (\"system\", \"You are an order management assistant. You have access to the following tools: {tools}. Use them to create orders or check order status. Respond politely and helpfully.\"),\n",
    "    MessagesPlaceholder(variable_name=\"agent_scratchpad\"),\n",
    "    (\"human\", \"{input}\"),\n",
    "])\n",
    "\n",
    "# Create Agent\n",
    "agent = create_react_agent(llm, tools, agent_prompt)\n",
    "\n",
    "# Create Agent Executor\n",
    "agent_executor = AgentExecutor(\n",
    "    agent=agent,\n",
    "    tools=tools,\n",
    "    verbose=True, # Enable verbose to see Agent's thought process\n",
    "    handle_parsing_errors=True # Allow Agent to attempt self-correction\n",
    ")\n",
    "\n",
    "print(\"Agent and Agent Executor initialized.\")\n",
    "\n",
    "# --- 4. Execute and Test Agent ---\n",
    "print(\"\\n--- Starting Order Management Agent Test ---\")\n",
    "\n",
    "# Scenario 1: Create a new order\n",
    "query_1 = \"I want to order 2 mechanical keyboards for Nguyen Van A.\"\n",
    "print(f\"\\nUser: {query_1}\")\n",
    "response_1 = agent_executor.invoke({\"input\": query_1})\n",
    "print(f\"Agent: {response_1['output']}\")\n",
    "\n",
    "# Scenario 2: Check order status (using ID from the newly created order)\n",
    "# Get order ID from mock_orders_db (or from previous response if you want to automate)\n",
    "first_order_id = list(mock_orders_db.keys())[0] if mock_orders_db else \"ORDER-0001\"\n",
    "query_2 = f\"Check the status of order {first_order_id}.\"\n",
    "print(f\"\\nUser: {query_2}\")\n",
    "response_2 = agent_executor.invoke({\"input\": query_2})\n",
    "print(f\"Agent: {response_2['output']}\")\n",
    "\n",
    "# Scenario 3: Check non-existent order status\n",
    "query_3 = \"Check the status of order ORDER-9999.\"\n",
    "print(f\"\\nUser: {query_3}\")\n",
    "response_3 = agent_executor.invoke({\"input\": query_3})\n",
    "print(f\"Agent: {response_3['output']}\")\n",
    "\n",
    "# Scenario 4: Request unrelated to Tool functionality\n",
    "query_4 = \"What's the weather like today?\"\n",
    "print(f\"\\nUser: {query_4}\")\n",
    "response_4 = agent_executor.invoke({\"input\": query_4})\n",
    "print(f\"Agent: {response_4['output']}\")\n",
    "\n",
    "print(\"\\n--- Order Management Agent Test Ended ---\")"
   ]
  }
 ],
 "metadata": {
  "kernelspec": {
   "display_name": "Python 3",
   "language": "python",
   "name": "python3"
  },
  "language_info": {
   "codemirror_mode": {
    "name": "ipython",
    "version": 3
   },
   "file_extension": ".py",
   "mimetype": "text/x-python",
   "name": "python",
   "nbconvert_exporter": "python",
   "pygments_lexer": "ipython3",
   "version": "3.10.12"
  }
 },
 "nbformat": 4,
 "nbformat_minor": 5
}
