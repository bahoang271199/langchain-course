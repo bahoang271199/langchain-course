{
 "cells": [
  {
   "cell_type": "markdown",
   "metadata": {},
   "source": [
    "# Lesson 7.1: Building a Multi-functional Chatbot\n",
    "\n",
    "---"
   ]
  },
  {
   "cell_type": "markdown",
   "metadata": {},
   "source": [
    "In previous Modules, we learned about the core components of LangChain such as LLMs, Prompts, Chains, Agents, Tools, and Memory. Now it's time to combine all that knowledge to build a practical and useful application: a **multi-functional chatbot**. This chatbot will not only be able to chat but also perform tasks like searching for information, performing calculations, and interacting with external APIs."
   ]
  },
  {
   "cell_type": "markdown",
   "metadata": {},
   "source": [
    "This lesson will focus on designing the architecture for such a chatbot, how to use an Agent to orchestrate functions, and how to integrate a simple user interface."
   ]
  },
  {
   "cell_type": "markdown",
   "metadata": {},
   "source": [
    "## 1. Designing the Architecture for a Multi-functional Chatbot"
   ]
  },
  {
   "cell_type": "markdown",
   "metadata": {},
   "source": [
    "To build a chatbot capable of performing various types of tasks, we need a flexible architecture where the Large Language Model (LLM) acts as the \"brain\" and other components extend its capabilities."
   ]
  },
  {
   "cell_type": "markdown",
   "metadata": {},
   "source": [
    "* **LLM (Large Language Model):** The core of the chatbot, responsible for understanding natural language, reasoning, and generating responses.\n",
    "* **Agent:** Acts as the intelligent \"orchestrator.\" Instead of just answering, the Agent decides whether it needs to use a specific tool to fulfill the user's request.\n",
    "* **Tools:** Specific functions that the Agent can call to interact with the external world or perform specialized tasks. For example:\n",
    "    * **Web Search:** To look up current information or factual data.\n",
    "    * **Calculation:** To solve arithmetic problems.\n",
    "    * **API Interaction:** To retrieve data from external services (weather, quotes, task management, etc.).\n",
    "    * **Knowledge Base Query (RAG):** To answer questions based on internal documents.\n",
    "* **Memory:** Helps the chatbot maintain conversation context across multiple turns, allowing for more natural and seamless interactions.\n",
    "* **User Interface (UI):** Provides a way for users to interact with the chatbot (e.g., web interface, mobile application).\n",
    "\n",
    ""
   ]
  },
  {
   "cell_type": "markdown",
   "metadata": {},
   "source": [
    "\n",
    "---"
   ]
  },
  {
   "cell_type": "markdown",
   "metadata": {},
   "source": [
    "## 2. Using an Agent with Multiple Tools"
   ]
  },
  {
   "cell_type": "markdown",
   "metadata": {},
   "source": [
    "The key to creating a multi-functional chatbot is to equip the Agent with a diverse set of Tools and provide it with the ability to select the appropriate Tool based on the user's intent."
   ]
  },
  {
   "cell_type": "markdown",
   "metadata": {},
   "source": [
    "* **Clear Tool Definitions:** Each Tool needs a unique `name` and a clear `description` outlining its function and the type of input it expects. The LLM will use this `description` to decide when to call the Tool.\n",
    "* **Tool Collection:** Place all Tools that the Agent can use into a list.\n",
    "* **Agent Prompt:** The Agent's prompt needs to instruct the LLM on how to think (Thought), act (Action), and observe (Observation) to use the Tools effectively. It also needs a placeholder for `agent_scratchpad` to track the Agent's intermediate steps.\n",
    "* **Memory Integration:** For the Agent to remember previous conversation turns, we will use a type of Memory (e.g., `ConversationBufferMemory`) and integrate it into the Agent's prompt via `MessagesPlaceholder`."
   ]
  },
  {
   "cell_type": "markdown",
   "metadata": {},
   "source": [
    "\n",
    "---"
   ]
  },
  {
   "cell_type": "markdown",
   "metadata": {},
   "source": [
    "## 3. Integrating a Simple User Interface"
   ]
  },
  {
   "cell_type": "markdown",
   "metadata": {},
   "source": [
    "For users to interact with the chatbot, we need an interface. For Python applications, **Streamlit** and **Gradio** are two excellent frameworks for building web interfaces quickly and easily."
   ]
  },
  {
   "cell_type": "markdown",
   "metadata": {},
   "source": [
    "* **Streamlit:**\n",
    "    * **Pros:** Pure Python syntax, very fast for developing interactive data and ML applications. Supports various UI widgets, flexible layouts.\n",
    "    * **When to use:** Building dashboards, demo applications, or internal tools.\n",
    "* **Gradio:**\n",
    "    * **Pros:** Extremely simple to create interfaces for ML models and Python functions. Just a few lines of code can produce an interface.\n",
    "    * **When to use:** Quickly sharing models, creating simple demos.\n",
    "\n",
    "In this practical example, we will use **Streamlit** to build our chatbot's interface, as it offers better flexibility for a full-fledged chatbot application."
   ]
  },
  {
   "cell_type": "markdown",
   "metadata": {},
   "source": [
    "\n",
    "---"
   ]
  },
  {
   "cell_type": "markdown",
   "metadata": {},
   "source": [
    "## 4. Practical Example: Building and Running a Multi-functional Chatbot"
   ]
  },
  {
   "cell_type": "markdown",
   "metadata": {},
   "source": [
    "We will build a Streamlit chatbot with the following functionalities:\n",
    "* **Web Search:** Using `SerpAPIWrapper`.\n",
    "* **Calculation:** Using the `Calculator` Tool.\n",
    "* **Weather Lookup:** Using a simple Custom Tool (as built in previous lessons).\n",
    "* **Context Preservation:** Using `ConversationBufferMemory`."
   ]
  },
  {
   "cell_type": "markdown",
   "metadata": {},
   "source": [
    "**Project Structure:**\n",
    "You will create a single Python file, for example `app.py`."
   ]
  },
  {
   "cell_type": "markdown",
   "metadata": {},
   "source": [
    "**Preparation:**\n",
    "* Ensure you have the necessary libraries installed: `langchain-openai`, `google-search-results`, `numexpr`, `streamlit`, `requests`.\n",
    "* Set the `OPENAI_API_KEY` and `SERPAPI_API_KEY` environment variables."
   ]
  },
  {
   "cell_type": "code",
   "execution_count": null,
   "metadata": {},
   "outputs": [],
   "source": [
    "import os\n",
    "import streamlit as st\n",
    "from langchain_openai import ChatOpenAI\n",
    "from langchain.agents import AgentExecutor, create_react_agent\n",
    "from langchain_community.utilities import SerpAPIWrapper\n",
    "from langchain_community.tools import Tool\n",
    "from langchain_community.tools.calculator.tool import Calculator\n",
    "from langchain_core.prompts import ChatPromptTemplate, MessagesPlaceholder\n",
    "from langchain_core.messages import HumanMessage, AIMessage\n",
    "from langchain.memory import ConversationBufferMemory\n",
    "import requests\n",
    "import json # To handle JSON from weather API (if any)\n",
    "\n",
    "# Thiết lập biến môi trường cho khóa API của OpenAI và SerpAPI\n",
    "# Đảm bảo bạn đã đặt các biến này trong môi trường của mình hoặc trong Streamlit Secrets\n",
    "# os.environ[\"OPENAI_API_KEY\"] = st.secrets[\"OPENAI_API_KEY\"]\n",
    "# os.environ[\"SERPAPI_API_KEY\"] = st.secrets[\"SERPAPI_API_KEY\"]\n",
    "\n",
    "# --- 1. Khởi tạo LLM ---\n",
    "llm = ChatOpenAI(model_name=\"gpt-3.5-turbo\", temperature=0)\n",
    "\n",
    "# --- 2. Định nghĩa các Tools ---\n",
    "\n",
    "# Công cụ tìm kiếm web\n",
    "search_tool = Tool(\n",
    "    name=\"Google Search\",\n",
    "    func=SerpAPIWrapper().run,\n",
    "    description=\"Hữu ích khi bạn cần tìm kiếm thông tin trên Google về các sự kiện hiện tại hoặc dữ liệu thực tế.\" # Useful when you need to search for information on Google about current events or factual data.\n",
    ")\n",
    "\n",
    "# Công cụ tính toán\n",
    "calculator_tool = Calculator()\n",
    "\n",
    "# Custom Tool: Tra cứu thời tiết giả lập (có thể thay bằng API thật nếu có)\n",
    "@st.cache_data(ttl=3600) # Cache kết quả của tool này trong 1 giờ\n",
    "def get_weather_data(location: str) -> str:\n",
    "    \"\"\"\n",
    "    Lấy thông tin thời tiết hiện tại cho một địa điểm cụ thể.\n",
    "    Đầu vào là tên thành phố hoặc địa điểm (ví dụ: \"Hà Nội\", \"Đà Nẵng\", \"Tokyo\").\n",
    "    Trả về chuỗi mô tả thời tiết.\n",
    "    \"\"\"\n",
    "    location_lower = location.lower()\n",
    "    if \"hà nội\" in location_lower: # Hanoi\n",
    "        return \"Thời tiết Hà Nội: 28°C, trời nắng, độ ẩm 70%, gió nhẹ.\" # Hanoi Weather: 28°C, sunny, 70% humidity, light wind.\n",
    "    elif \"đà nẵng\" in location_lower: # Da Nang\n",
    "        return \"Thời tiết Đà Nẵng: 30°C, trời quang đãng, độ ẩm 65%, không có mưa.\" # Da Nang Weather: 30°C, clear sky, 65% humidity, no rain.\n",
    "    elif \"london\" in location_lower:\n",
    "        return \"Thời tiết London: 15°C, nhiều mây, có mưa phùn, gió mạnh.\" # London Weather: 15°C, cloudy, light drizzle, strong wind.\n",
    "    elif \"tokyo\" in location_lower:\n",
    "        return \"Thời tiết Tokyo: 25°C, nắng đẹp, độ ẩm 60%.\" # Tokyo Weather: 25°C, sunny, 60% humidity.\n",
    "    else:\n",
    "        return f\"Không tìm thấy thông tin thời tiết cho địa điểm: {location}.\" # Weather information not found for location:\n",
    "\n",
    "weather_tool = Tool(\n",
    "    name=\"Weather Lookup\",\n",
    "    func=get_weather_data,\n",
    "    description=\"Hữu ích khi bạn cần biết thông tin thời tiết hiện tại của một thành phố cụ thể.\" # Useful when you need to know the current weather information for a specific city.\n",
    ")\n",
    "\n",
    "tools = [search_tool, calculator_tool, weather_tool]\n",
    "\n",
    "# --- 3. Thiết lập Memory cho Agent ---\n",
    "# Sử dụng ConversationBufferMemory để duy trì lịch sử trò chuyện\n",
    "# memory_key phải khớp với variable_name trong MessagesPlaceholder của prompt\n",
    "# return_messages=True để lịch sử được trả về dưới dạng danh sách các đối tượng Message\n",
    "memory = ConversationBufferMemory(memory_key=\"chat_history\", return_messages=True)\n",
    "\n",
    "# --- 4. Định nghĩa Prompt cho Agent ---\n",
    "# Prompt này hướng dẫn LLM cách suy nghĩ và sử dụng các công cụ.\n",
    "# MessagesPlaceholder(variable_name=\"chat_history\") là nơi lịch sử trò chuyện được chèn vào.\n",
    "# MessagesPlaceholder(variable_name=\"agent_scratchpad\") là nơi Agent ghi lại các Thought, Action, Observation.\n",
    "prompt = ChatPromptTemplate.from_messages([\n",
    "    (\"system\", \"Bạn là một trợ lý đa chức năng hữu ích. Bạn có quyền truy cập vào các công cụ sau: {tools}. Sử dụng chúng để trả lời các câu hỏi của người dùng. Hãy duy trì ngữ cảnh cuộc trò chuyện và trả lời một cách tự nhiên.\"), # You are a helpful multi-functional assistant. You have access to the following tools: {tools}. Use them to answer user questions. Maintain conversation context and respond naturally.\n",
    "    MessagesPlaceholder(variable_name=\"chat_history\"),\n",
    "    (\"human\", \"{input}\"),\n",
    "    MessagesPlaceholder(variable_name=\"agent_scratchpad\"),\n",
    "])\n",
    "\n",
    "# --- 5. Tạo Agent và Agent Executor ---\n",
    "agent = create_react_agent(llm, tools, prompt)\n",
    "agent_executor = AgentExecutor(\n",
    "    agent=agent,\n",
    "    tools=tools,\n",
    "    memory=memory, # Truyền đối tượng memory vào Agent Executor\n",
    "    verbose=True, # Bật verbose để xem quá trình suy nghĩ của Agent trong console\n",
    "    handle_parsing_errors=True # Cho phép Agent cố gắng tự sửa lỗi phân tích cú pháp\n",
    ")\n",
    "\n",
    "# --- 6. Giao diện người dùng Streamlit ---\n",
    "st.set_page_config(page_title=\"Chatbot Đa Chức Năng\", page_icon=\"🤖\") # Multi-functional Chatbot\n",
    "st.title(\"🤖 Chatbot Đa Chức Năng\") # Multi-functional Chatbot\n",
    "\n",
    "# Khởi tạo lịch sử trò chuyện trong session state nếu chưa có\n",
    "if \"messages\" not in st.session_state:\n",
    "    st.session_state.messages = []\n",
    "\n",
    "# Hiển thị lịch sử trò chuyện\n",
    "for message in st.session_state.messages:\n",
    "    with st.chat_message(message[\"role\"]):\n",
    "        st.markdown(message[\"content\"])\n",
    "\n",
    "# Xử lý đầu vào của người dùng\n",
    "if user_query := st.chat_input(\"Bạn muốn hỏi gì?\"): # What do you want to ask?\n",
    "    # Thêm tin nhắn của người dùng vào lịch sử\n",
    "    st.session_state.messages.append({\"role\": \"user\", \"content\": user_query})\n",
    "    with st.chat_message(\"user\"):\n",
    "        st.markdown(user_query)\n",
    "\n",
    "    with st.chat_message(\"assistant\"):\n",
    "        with st.spinner(\"Đang suy nghĩ...\"): # Thinking...\n",
    "            try:\n",
    "                # Gọi Agent Executor với câu hỏi của người dùng\n",
    "                # Agent Executor sẽ tự động lấy lịch sử từ 'memory' đã được truyền vào\n",
    "                response = agent_executor.invoke({\"input\": user_query})\n",
    "                ai_response = response[\"output\"]\n",
    "            except Exception as e:\n",
    "                ai_response = f\"Xin lỗi, có lỗi xảy ra: {e}. Vui lòng thử lại hoặc hỏi câu hỏi khác.\" # Sorry, an error occurred: {e}. Please try again or ask another question.\n",
    "                st.error(ai_response)\n",
    "        \n",
    "        st.markdown(ai_response)\n",
    "        # Thêm phản hồi của AI vào lịch sử\n",
    "        st.session_state.messages.append({\"role\": \"assistant\", \"content\": ai_response})\n",
    "\n",
    "# Nút để xóa lịch sử trò chuyện\n",
    "if st.button(\"Xóa lịch sử trò chuyện\"): # Clear chat history\n",
    "    st.session_state.messages = []\n",
    "    memory.clear() # Xóa lịch sử trong LangChain memory\n",
    "    st.experimental_rerun() # Chạy lại ứng dụng để cập nhật giao diện\n"
   ]
  }
 ],
 "metadata": {
  "kernelspec": {
   "display_name": "Python 3",
   "language": "python",
   "name": "python3"
  },
  "language_info": {
   "codemirror_mode": {
    "name": "ipython",
    "version": 3
   },
   "file_extension": ".py",
   "mimetype": "text/x-python",
   "name": "python",
   "nbconvert_exporter": "python",
   "pygments_lexer": "ipython3",
   "version": "3.10.12"
  }
 },
 "nbformat": 4,
 "nbformat_minor": 5
}
