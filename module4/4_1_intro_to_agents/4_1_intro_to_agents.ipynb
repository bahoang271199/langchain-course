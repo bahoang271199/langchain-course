{
 "cells": [
  {
   "cell_type": "markdown",
   "metadata": {},
   "source": [
    "# Lesson 4.1: Introduction to Agents\n",
    "\n",
    "---"
   ]
  },
  {
   "cell_type": "markdown",
   "metadata": {},
   "source": [
    "In previous Modules, we learned how to interact with Large Language Models (LLMs) through Prompts, connect processing steps using Chains, and integrate external knowledge via RAG. However, the Chains we've built so far have a fixed processing flow. To build more complex applications capable of autonomously solving problems by making decisions and performing various actions, we need to introduce the concept of **Agents**."
   ]
  },
  {
   "cell_type": "markdown",
   "metadata": {},
   "source": [
    "## 1. What is an Agent?"
   ]
  },
  {
   "cell_type": "markdown",
   "metadata": {},
   "source": [
    "In LangChain, an **Agent** is a system where a **Large Language Model (LLM)** acts as the \"brain\" to **make decisions** about actions to take, observe the results of those actions, and repeat the process until the goal is achieved.\n",
    "\n",
    "Imagine an Agent as an automated version of a person solving a problem:\n",
    "\n",
    "1.  **Observe:** The person looks at the problem to be solved.\n",
    "\n",
    "2.  **Plan:** Thinks about the necessary steps to solve the problem.\n",
    "\n",
    "3.  **Act:** Performs an action (e.g., searching for information, performing a calculation).\n",
    "\n",
    "4.  **Observe Result:** Reviews the outcome of the action.\n",
    "\n",
    "5.  **Loop:** If the problem is not yet solved, returns to the planning step based on the new result.\n",
    "\n",
    "An Agent in LangChain operates similarly, using an LLM to perform these reasoning and action steps.\n",
    "\n",
    ""
   ]
  },
  {
   "cell_type": "markdown",
   "metadata": {},
   "source": [
    "\n",
    "---"
   ]
  },
  {
   "cell_type": "markdown",
   "metadata": {},
   "source": [
    "## 2. Differences Between Chains and Agents"
   ]
  },
  {
   "cell_type": "markdown",
   "metadata": {},
   "source": [
    "Understanding the distinction between Chains and Agents is crucial:"
   ]
  },
  {
   "cell_type": "markdown",
   "metadata": {},
   "source": [
    "### 2.1. Chains\n",
    "\n",
    "* **Fixed Flow:** Chains execute a predefined sequence of processing steps. The output of one step always becomes the input for the next in an unchanging order.\n",
    "\n",
    "* **No Dynamic Decision-Making:** Chains cannot autonomously decide the next step based on intermediate results or other conditions.\n",
    "\n",
    "* **Examples:**\n",
    "    * `LLMChain`: Prompt -> LLM.\n",
    "    * `SequentialChain`: Summarize -> Generate Questions.\n",
    "    * `RAG Chain`: Retrieve -> LLM Generates Answer.\n",
    "\n",
    "* **When to Use:** When you know precisely the steps required to solve a problem and their order does not change."
   ]
  },
  {
   "cell_type": "markdown",
   "metadata": {},
   "source": [
    "### 2.2. Agents\n",
    "\n",
    "* **Dynamic Planning Capability:** Agents use an LLM to **autonomously decide** the sequence of actions to perform. They can choose which tool to use, with what input, and when to stop, based on the current state and the objective.\n",
    "\n",
    "* **Flexible and Adaptive:** Agents can adapt to unforeseen situations and self-correct if an action doesn't yield the desired result.\n",
    "\n",
    "* **Tool Use:** Agents are equipped with a set of \"tools\" that they can invoke to perform specific tasks outside the LLM's inherent capabilities (e.g., web search, mathematical calculations, API calls).\n",
    "\n",
    "* **Examples:**\n",
    "    * An Agent might receive the question \"What's the weather like in Da Nang today?\" -> Decides to use the \"weather lookup\" tool -> Executes -> Gets result -> Answers.\n",
    "    * An Agent might receive the question \"Calculate total Q1 revenue from Excel file X\" -> Decides to use the \"read Excel\" tool -> Reads data -> Decides to use the \"calculate\" tool -> Calculates total -> Answers.\n",
    "\n",
    "* **When to Use:** When you cannot precisely know in advance the steps required to solve a problem, or when the problem requires interaction with the external world via tools.\n",
    "\n",
    "[Image comparing Chains (fixed path) vs. Agents (dynamic path with tools)]"
   ]
  },
  {
   "cell_type": "markdown",
   "metadata": {},
   "source": [
    "\n",
    "---"
   ]
  },
  {
   "cell_type": "markdown",
   "metadata": {},
   "source": [
    "## 3. Structure of an Agent"
   ]
  },
  {
   "cell_type": "markdown",
   "metadata": {},
   "source": [
    "An Agent in LangChain typically consists of three main components:"
   ]
  },
  {
   "cell_type": "markdown",
   "metadata": {},
   "source": [
    "### 3.1. LLM (Large Language Model): The Decision-Making Brain\n",
    "\n",
    "* This is the heart of the Agent. The LLM receives input (user query, chat history, observations from previous actions) and uses its reasoning capabilities to decide the next action.\n",
    "\n",
    "* The LLM will think (Thought) about the problem, select the appropriate tool (Tool), and provide the input (Tool Input) for that tool."
   ]
  },
  {
   "cell_type": "markdown",
   "metadata": {},
   "source": [
    "### 3.2. Tools: The Instruments an Agent Can Use\n",
    "\n",
    "* **Tools** are functions or APIs that the Agent can invoke to interact with the external world or perform specific tasks that the LLM itself cannot do.\n",
    "\n",
    "* **Examples of Tools:**\n",
    "    * `Google Search`: Search for information on the web.\n",
    "    * `Calculator`: Perform mathematical calculations.\n",
    "    * `API Wrapper`: Interact with third-party APIs (e.g., weather, stock market).\n",
    "    * `Python REPL`: Run Python code.\n",
    "    * `Vector Store Retriever`: Retrieve documents from a Vector Store.\n",
    "\n",
    "* Each Tool has a clear description of its functionality, helping the LLM decide when to use that Tool."
   ]
  },
  {
   "cell_type": "markdown",
   "metadata": {},
   "source": [
    "### 3.3. Agent Executor: Executing Agent Actions\n",
    "\n",
    "* The **Agent Executor** is the component responsible for orchestrating the entire Agent process. It receives the LLM's decision and executes that action.\n",
    "\n",
    "* **Execution Loop:**\n",
    "    1.  Sends the query and history to the LLM.\n",
    "    2.  The LLM outputs a \"Thought\" and an \"Action\" (choosing a Tool and Tool Input).\n",
    "    3.  The Agent Executor executes the Tool with the chosen Tool Input.\n",
    "    4.  The Agent Executor receives an \"Observation\" (result of the action) from the Tool.\n",
    "    5.  The Observation is fed back to the LLM for the LLM to continue reasoning and decide the next action, or conclude if the goal has been achieved.\n",
    "\n",
    "* This loop continues until the LLM decides to provide a final answer or encounters an error.\n",
    "\n",
    ""
   ]
  },
  {
   "cell_type": "markdown",
   "metadata": {},
   "source": [
    "\n",
    "---"
   ]
  },
  {
   "cell_type": "markdown",
   "metadata": {},
   "source": [
    "## 4. Agent's Decision-Making and Planning Capabilities (Reasoning, Acting)"
   ]
  },
  {
   "cell_type": "markdown",
   "metadata": {},
   "source": [
    "The core capability of Agents lies in the process of **Reasoning** and **Acting**, often referred to as the **Reasoning-Action Loop**."
   ]
  },
  {
   "cell_type": "markdown",
   "metadata": {},
   "source": [
    "### 4.1. Reasoning\n",
    "\n",
    "* This is the process where the LLM analyzes the user's query and the current state of the conversation/problem.\n",
    "\n",
    "* The LLM will:\n",
    "    * Identify the ultimate goal.\n",
    "    * Analyze available information.\n",
    "    * Think about the necessary steps to achieve the goal.\n",
    "    * Select the most appropriate tool from the list of available tools.\n",
    "    * Determine the required input for that tool.\n",
    "\n",
    "* This reasoning process is often manifested in the LLM's output as a \"Thought\" before it issues an \"Action.\""
   ]
  },
  {
   "cell_type": "markdown",
   "metadata": {},
   "source": [
    "### 4.2. Acting\n",
    "\n",
    "* This is the step where the Agent Executor executes the tool chosen by the LLM with the specified input.\n",
    "\n",
    "* After the tool is executed, it returns a result, called an \"Observation.\"\n",
    "\n",
    "* This Observation is then fed back to the LLM to provide new information for the next reasoning loop."
   ]
  },
  {
   "cell_type": "markdown",
   "metadata": {},
   "source": [
    "### 4.3. The Reasoning-Action Loop (Thought/Action/Observation)\n",
    "\n",
    "Here's an illustrative example of how an Agent might reason and act to answer a question:\n",
    "\n",
    "**User Query:** \"What's the weather like in Paris today?\"\n",
    "\n",
    "1.  **Thought (LLM's thought):** \"To answer the weather question, I need to use the weather lookup tool. I need to know the city for the lookup.\"\n",
    "2.  **Action (LLM's action):**\n",
    "    * **Tool:** `weather_tool`\n",
    "    * **Tool Input:** `Paris`\n",
    "3.  **Observation (Observation from Tool):** (Agent Executor calls `weather_tool(\"Paris\")`, and the tool returns) \"Weather in Paris: Temperature 25°C, sunny, humidity 60%.\"\n",
    "4.  **Thought (LLM's thought):** \"I have the weather information. Now I can answer the user's question.\"\n",
    "5.  **Action (LLM's action):**\n",
    "    * **Tool:** `Final Answer` (this is a special action for the Agent to conclude and provide the final answer)\n",
    "    * **Tool Input:** \"The weather in Paris today is 25°C, sunny, and humidity 60%.\"\n",
    "\n",
    "This loop allows the Agent to perform the necessary steps to solve a problem, even complex ones requiring multiple steps and interactions with external systems."
   ]
  },
  {
   "cell_type": "markdown",
   "metadata": {},
   "source": [
    "\n",
    "---"
   ]
  },
  {
   "cell_type": "markdown",
   "metadata": {},
   "source": [
    "## Lesson Summary\n",
    "\n",
    "This lesson introduced the powerful concept of **Agents** in LangChain, where an **LLM** acts as the brain to **make decisions** and **perform actions** through **Tools**. We clearly distinguished between **Chains** (fixed flow) and **Agents** (dynamic planning capability and tool use). You also understood the **structure of an Agent** including the LLM, Tools, and Agent Executor, along with how an Agent performs the **Reasoning** and **Acting** process in a continuous loop to achieve its goal. Mastering Agents is key to building truly intelligent LLM applications capable of automation and real-world problem-solving."
   ]
  }
 ],
 "metadata": {
  "kernelspec": {
   "display_name": "Python 3",
   "language": "python",
   "name": "python3"
  },
  "language_info": {
   "codemirror_mode": {
    "name": "ipython",
    "version": 3
   },
   "file_extension": ".py",
   "mimetype": "text/x-python",
   "name": "python",
   "nbconvert_exporter": "python",
   "pygments_lexer": "ipython3",
   "version": "3.10.12"
  }
 },
 "nbformat": 4,
 "nbformat_minor": 5
}
